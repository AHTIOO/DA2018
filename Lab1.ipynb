{
 "cells": [
  {
   "cell_type": "code",
   "execution_count": 10,
   "metadata": {
    "collapsed": true
   },
   "outputs": [],
   "source": [
    "import sys\n",
    "import os\n",
    "import numpy as np\n",
    "import matplotlib.pyplot as plt\n",
    "import tarfile\n",
    "import pickle\n",
    "from six.moves.urllib.request import urlretrieve\n",
    "\n",
    "\n",
    "np.random.seed(0)\n",
    "\n",
    "# GLOBAL PARAMETERS\n",
    "# Data\n",
    "cifar_file_name = \"cifar-10-python.tar.gz\"\n",
    "url = 'https://www.cs.toronto.edu/~kriz/'\n",
    "data_root = '.' # Change me to store data elsewhere\n",
    "cifar_dir_name = \"cifar-10-batches-py\"  # where cifar data is stored locally\n",
    "# Learning\n",
    "alpha = 0.5  # learning rate\n",
    "num_epochs = 500  # number of learning epochs \n",
    "batch_size = 1000  # mini-batch size for gradient descent"
   ]
  },
  {
   "cell_type": "markdown",
   "metadata": {},
   "source": [
    "Определим функции для загрузки данных с удаленного сервера и разархивации их в локальный каталог."
   ]
  },
  {
   "cell_type": "code",
   "execution_count": 11,
   "metadata": {},
   "outputs": [
    {
     "name": "stdout",
     "output_type": "stream",
     "text": [
      "File  .\\cifar-10-python.tar.gz  size :  170498071  bytes.\n"
     ]
    }
   ],
   "source": [
    "def maybe_download():\n",
    "    \"\"\"Download the file if it does not exist.\"\"\"\n",
    "\n",
    "    dest_file_name = os.path.join(data_root, cifar_file_name)\n",
    "\n",
    "    if not os.path.exists(dest_file_name):\n",
    "        urlretrieve(url + cifar_file_name, dest_file_name)\n",
    "\n",
    "    statinfo = os.stat(dest_file_name)\n",
    "    print(\"File \", dest_file_name, \" size : \", statinfo.st_size, \" bytes.\")\n",
    "\n",
    "    return dest_file_name\n",
    "\n",
    "\n",
    "def maybe_extract(file_name):\n",
    "    \"\"\"Extract compressed file if is was not uncomressed before.\"\"\"\n",
    "\n",
    "    tar = tarfile.open(file_name)\n",
    "    sys.stdout.flush()\n",
    "    tar.extractall(data_root)\n",
    "    tar.close()\n",
    "\n",
    "    dest_dir_name = os.path.join(data_root, cifar_dir_name)\n",
    "    if not os.path.exists(dest_dir_name):\n",
    "        raise Exception(\"No data directory. Check that archive with data exists, not corrupted and contains \",\n",
    "                        cifar_dir_name, \" inside.\")\n",
    "\n",
    "    return dest_dir_name\n",
    "\n",
    "\n",
    "data_file_name = maybe_download()\n",
    "data_dir_name = maybe_extract(data_file_name)"
   ]
  },
  {
   "cell_type": "markdown",
   "metadata": {},
   "source": [
    "## Предобработка данных.\n",
    "\n",
    "После разархивации получим набор двоичных фалов, в которых хранятся данные CIFAR. \n",
    "\n",
    "Тренировочная выборка разбита на 5 файлов (data_batch_1, ..., data_batch_5). Прочтем все эти файлы и объединим данные из них в один массив. Затем загрузим тестовую выборку."
   ]
  },
  {
   "cell_type": "code",
   "execution_count": 19,
   "metadata": {},
   "outputs": [
    {
     "name": "stdout",
     "output_type": "stream",
     "text": [
      "Loading  .\\cifar-10-batches-py/data_batch_1 ...\n",
      "Done.\n",
      "Loading  .\\cifar-10-batches-py/data_batch_2 ...\n",
      "Done.\n",
      "Loading  .\\cifar-10-batches-py/data_batch_3 ...\n",
      "Done.\n",
      "Loading  .\\cifar-10-batches-py/data_batch_4 ...\n",
      "Done.\n",
      "Loading  .\\cifar-10-batches-py/data_batch_5 ...\n",
      "Done.\n",
      "['airplane', 'automobile', 'bird', 'cat', 'deer', 'dog', 'frog', 'horse', 'ship', 'truck']\n"
     ]
    }
   ],
   "source": [
    "# load train and test data\n",
    "train_batches = [\"data_batch_1\",\n",
    "                 \"data_batch_2\",\n",
    "                 \"data_batch_3\",\n",
    "                 \"data_batch_4\",\n",
    "                 \"data_batch_5\",\n",
    "                ]\n",
    "\n",
    "\n",
    "train_labels = []\n",
    "train_data = []\n",
    "for train_batch in train_batches:\n",
    "    path_to_batch = data_dir_name + \"/\" + train_batch\n",
    "    print(\"Loading \", path_to_batch, \"...\")\n",
    "    batch = pickle.load(open(path_to_batch, \"rb\"), encoding=\"bytes\")\n",
    "    # batch is a dictionary, dict_keys([b'batch_label', b'labels', b'data', b'filenames'])\n",
    "    # let's store data and labels for all batches in a separate arrays\n",
    "    train_labels.extend(batch[b\"labels\"])\n",
    "    train_data.extend(batch[b\"data\"])\n",
    "    print(\"Done.\")\n",
    "    \n",
    "# also load titles for labels\n",
    "raw = pickle.load(open(data_dir_name + \"/batches.meta\", \"rb\"))\n",
    "class_names = [x for x in raw[\"label_names\"]]\n",
    "\n",
    "print(class_names)"
   ]
  },
  {
   "cell_type": "code",
   "execution_count": 13,
   "metadata": {},
   "outputs": [
    {
     "name": "stdout",
     "output_type": "stream",
     "text": [
      "frog\n"
     ]
    },
    {
     "data": {
      "image/png": "[encoded data removed]",
      "text/plain": [
       "<matplotlib.figure.Figure at 0x1f3c34c42e8>"
      ]
     },
     "metadata": {},
     "output_type": "display_data"
    }
   ],
   "source": [
    "# let's have a look at a sample image\n",
    "sample_no = 0\n",
    "sample_data = train_data[sample_no]\n",
    "\n",
    "sample_image = np.reshape(sample_data, [3, 32, 32])\n",
    "sample_image = np.swapaxes(sample_image, 0, 2)\n",
    "sample_image = np.transpose(sample_image, [1, 0, 2])\n",
    "\n",
    "matplotlib.pyplot.imshow(sample_image)\n",
    "print(class_names[train_labels[sample_no]])"
   ]
  },
  {
   "cell_type": "code",
   "execution_count": 17,
   "metadata": {
    "collapsed": true
   },
   "outputs": [],
   "source": [
    "def preprocess_data(X, m, v):\n",
    "    if not m.any():\n",
    "        m = np.mean(X, axis=0)\n",
    "    if not v.any():\n",
    "        v = np.var(X, axis=0)\n",
    "    X = (X - m) / v\n",
    "    return X, m, v\n",
    "\n",
    "\n",
    "def preprocess_labels(y, num_classes):\n",
    "    y_gt = np.zeros((len(y), num_classes))\n",
    "    for i in range(0, len(y)):\n",
    "        y_gt[i, y[i]] = 1\n",
    "    return y_gt\n",
    "\n",
    "\n",
    "def h(theta, X):\n",
    "    return 1.0 / (1 + np.exp(-np.dot(X, theta)))\n",
    "\n",
    "\n",
    "def loss(y_gt, y_pred):\n",
    "    cross_entropy_error = 0.0\n",
    "    for i in range(0, len(y_gt)):\n",
    "        for j in range(0, len(y_gt[i])):\n",
    "            cross_entropy_error -= (y_gt[i][j] * np.log(y_pred[i][j]) + (1 - y_gt[i][j]) * np.log(1 - y_pred[i][j]))\n",
    "    return cross_entropy_error / len(y_gt)\n",
    "\n",
    "\n",
    "def forward(theta_mat, X):\n",
    "    probs = np.array([h(theta_mat[:, i], X) for i in range(0, theta_mat.shape[1])])\n",
    "    return probs.transpose()\n",
    "\n",
    "\n",
    "def derivative(X, y_gt, y_pred):\n",
    "    \"\"\"Derivative of cross-entropy loss over parameters of one logistic classifier.\"\"\"\n",
    "    return np.dot(y_pred - y_gt, X) / len(y_gt)\n",
    "\n",
    "def backward(X, y_gt, theta):\n",
    "    num_features = X.shape[1]\n",
    "    num_classes = y_gt.shape[1]\n",
    "    d_theta = np.zeros([num_features, num_classes])\n",
    "    y_pred = forward(theta, X)\n",
    "    for class_no in range(0, num_classes):\n",
    "        d_theta[:, class_no] = derivative(X, y_gt[:, class_no], y_pred[:, class_no])\n",
    "    return d_theta"
   ]
  },
  {
   "cell_type": "code",
   "execution_count": 20,
   "metadata": {},
   "outputs": [
    {
     "name": "stdout",
     "output_type": "stream",
     "text": [
      "Data shape :  (50000, 3072)\n",
      "Labels shape :  (50000,)\n",
      "Initial loss : 7.75398370431\n",
      "Epoch 0/10 ...........\n",
      "Loss : 7.44106669561  Train accuracy :  12.9125  Validation accuracy :  12.92\n",
      "Epoch 1/10 ...........\n",
      "Loss : 7.31513770111  Train accuracy :  14.6125  Validation accuracy :  14.64\n",
      "Epoch 2/10 ...........\n",
      "Loss : 7.24462578843  Train accuracy :  16.06  Validation accuracy :  15.78\n",
      "Epoch 3/10 ...........\n",
      "Loss : 7.19602106057  Train accuracy :  17.09  Validation accuracy :  16.62\n",
      "Epoch 4/10 ...........\n",
      "Loss : 7.15915454413  Train accuracy :  17.965  Validation accuracy :  17.33\n",
      "Epoch 5/10 ...........\n",
      "Loss : 7.12979996478  Train accuracy :  18.71  Validation accuracy :  18.24\n",
      "Epoch 6/10 ...........\n",
      "Loss : 7.10557221556  Train accuracy :  19.43  Validation accuracy :  19.15\n",
      "Epoch 7/10 ...........\n",
      "Loss : 7.0851491883  Train accuracy :  19.99  Validation accuracy :  19.74\n",
      "Epoch 8/10 ...........\n",
      "Loss : 7.0676505883  Train accuracy :  20.6  Validation accuracy :  20.24\n",
      "Epoch 9/10 ...........\n",
      "Loss : 7.05244341923  Train accuracy :  21.095  Validation accuracy :  20.72\n"
     ]
    }
   ],
   "source": [
    "# Now let's train a very simple baseline classification model - one-vs-all multiclass logistic regression\n",
    "num_classes = len(class_names)\n",
    "\n",
    "train_data = np.array(train_data, dtype=float)\n",
    "train_labels = np.array(train_labels)\n",
    "\n",
    "print(\"Data shape : \", train_data.shape)\n",
    "print(\"Labels shape : \", train_labels.shape)\n",
    "\n",
    "num_features = train_data.shape[1]\n",
    "num_samples = train_data.shape[0]\n",
    "num_train_samples = 40000\n",
    "\n",
    "p = np.random.permutation(num_samples)\n",
    "x_train = train_data[p[0:num_train_samples], :]\n",
    "y_train = train_labels[p[0:num_train_samples]]\n",
    "\n",
    "x_val = train_data[p[num_train_samples:], :]\n",
    "val_labels = train_labels[p[num_train_samples:]]\n",
    "train_labels = y_train\n",
    "\n",
    "x_train, m_train, v_train = preprocess_data(x_train, np.array([]), np.array([]))\n",
    "y_train = preprocess_labels(y_train, num_classes)\n",
    "\n",
    "x_val, _, _ = preprocess_data(x_val, m_train, v_train)\n",
    "\n",
    "theta = np.random.randn(num_features, num_classes)\n",
    "\n",
    "num_batches = num_train_samples // batch_size\n",
    "\n",
    "y_pred = forward(theta, x_train)\n",
    "loss_val = loss(y_train, y_pred)\n",
    "print(\"Initial loss :\", loss_val)\n",
    "\n",
    "for i in range(0, num_epochs):\n",
    "    p = np.random.permutation(num_train_samples)\n",
    "    print('Epoch %d/%d ' % (i, num_epochs), end='.')\n",
    "    for batch_no in range(0, num_batches):\n",
    "        if np.mod(batch_no, num_batches // 10) == 0:\n",
    "            print('.', end='')\n",
    "            sys.stdout.flush()\n",
    "        x_train_batch = x_train[p[batch_no * batch_size : (batch_no+1) * batch_size], :]\n",
    "        y_train_batch = y_train[p[batch_no * batch_size: (batch_no + 1) * batch_size]]\n",
    "        d_theta = backward(x_train_batch, y_train_batch, theta)\n",
    "        theta = theta - alpha*d_theta\n",
    "\n",
    "    # if np.mod(i, num_epochs // 10) == 0:\n",
    "    pred_train_probs = forward(theta, x_train)\n",
    "    pred_train_labels = np.argmax(pred_train_probs, axis=1)\n",
    "    loss_val = loss(y_train, pred_train_probs)\n",
    "\n",
    "    pred_val_labels = np.argmax(forward(theta, x_val), axis=1)\n",
    "    print(\"\\nLoss :\", loss_val,\n",
    "          \" Train accuracy : \", (1-np.mean(pred_train_labels != train_labels))*100,\n",
    "          \" Validation accuracy : \", (1 - np.mean(pred_val_labels != val_labels)) * 100)"
   ]
  },
  {
   "cell_type": "markdown",
   "metadata": {},
   "source": [
    "Оценим точность на тестовой выборке."
   ]
  },
  {
   "cell_type": "code",
   "execution_count": null,
   "metadata": {
    "collapsed": true
   },
   "outputs": [],
   "source": [
    "test_samples = pickle.load(open(data_dir_name + \"/test_batch\", \"rb\"), encoding=\"bytes\")\n",
    "test_labels = test_samples[b\"labels\"]\n",
    "test_data = test_samples[b\"data\"]\n",
    "x_test, _, _ = preprocess_data(test_data, m_train, v_train)\n",
    "predictions = np.argmax(forward(theta, x_test), axis=1)\n",
    "print(\"\\nTest accuracy : \", np.mean(predictions != test_labels))"
   ]
  }
 ],
 "metadata": {
  "kernelspec": {
   "display_name": "Python 3",
   "language": "python",
   "name": "python3"
  },
  "language_info": {
   "codemirror_mode": {
    "name": "ipython",
    "version": 3
   },
   "file_extension": ".py",
   "mimetype": "text/x-python",
   "name": "python",
   "nbconvert_exporter": "python",
   "pygments_lexer": "ipython3",
   "version": "3.6.3"
  }
 },
 "nbformat": 4,
 "nbformat_minor": 2
}
